{
  "nbformat": 4,
  "nbformat_minor": 0,
  "metadata": {
    "accelerator": "GPU",
    "colab": {
      "name": "pi_graf_demo.ipynb",
      "provenance": [],
      "collapsed_sections": [],
      "toc_visible": true
    },
    "kernelspec": {
      "display_name": "Python 3",
      "name": "python3"
    }
  },
  "cells": [
    {
      "cell_type": "markdown",
      "metadata": {
        "id": "eznCvSLHhNNa"
      },
      "source": [
        "#Installation Process"
      ]
    },
    {
      "cell_type": "code",
      "metadata": {
        "id": "RisHE5gjUiDu"
      },
      "source": [
        "import sys\r\n",
        "# Download miniconda\r\n",
        "!wget https://repo.anaconda.com/miniconda/Miniconda3-latest-Linux-x86_64.sh\r\n",
        "!bash Miniconda3-latest-Linux-x86_64.sh -bfp /usr/local\r\n",
        "# Install packages from Anaconda\r\n",
        "!conda install -y -c conda-forge --prefix /usr/local pymeep\r\n",
        "# Append path to be able to run packages installed with conda\r\n",
        "sys.path.append('/usr/local/lib/python3.7/site-packages')"
      ],
      "execution_count": null,
      "outputs": []
    },
    {
      "cell_type": "code",
      "metadata": {
        "id": "wbMiWPNubLpU"
      },
      "source": [
        "from google.colab import drive\n",
        "drive.mount('/content/gdrive')"
      ],
      "execution_count": null,
      "outputs": []
    },
    {
      "cell_type": "code",
      "metadata": {
        "id": "2Vkdird7bSh7"
      },
      "source": [
        "%cd /content/gdrive/MyDrive"
      ],
      "execution_count": null,
      "outputs": []
    },
    {
      "cell_type": "code",
      "metadata": {
        "id": "IR1ZXftOH76A"
      },
      "source": [
        "!git clone https://github.com/Godofnothing/graf"
      ],
      "execution_count": null,
      "outputs": []
    },
    {
      "cell_type": "code",
      "metadata": {
        "id": "rNTCAlyzJHXy"
      },
      "source": [
        "%cd graf"
      ],
      "execution_count": null,
      "outputs": []
    },
    {
      "cell_type": "code",
      "metadata": {
        "id": "TuB1dvUoYPbF"
      },
      "source": [
        "%%bash\r\n",
        "cd data\r\n",
        "chmod +x download_dogs.sh\r\n",
        "./download_dogs.sh\r\n",
        "cd .."
      ],
      "execution_count": null,
      "outputs": []
    },
    {
      "cell_type": "code",
      "metadata": {
        "id": "WL3vmz_AOBix"
      },
      "source": [
        "!cp configs/transfer_learning_carla.yaml configs/transfer_learning_dogs.yaml"
      ],
      "execution_count": 13,
      "outputs": []
    },
    {
      "cell_type": "code",
      "metadata": {
        "id": "h-Zy66LVdG3Y"
      },
      "source": [
        "%%shell\n",
        "# Creating an anaconda environment called graf\n",
        "eval \"$(conda shell.bash hook)\" # copy conda command to shell\n",
        "conda env create -f environment.yml\n",
        "conda activate graf\n",
        "\n",
        "# Installing torchsearchsorted\n",
        "cd submodules/nerf_pytorch\n",
        "pip install -r requirements.txt\n",
        "cd torchsearchsorted\n",
        "pip install .\n",
        "cd ../../../."
      ],
      "execution_count": null,
      "outputs": []
    },
    {
      "cell_type": "code",
      "metadata": {
        "id": "_DdGVjee1MAs"
      },
      "source": [
        "%%shell\n",
        "# activating graf\n",
        "eval \"$(conda shell.bash hook)\"\n",
        "conda activate graf\n",
        "\n",
        "python train.py configs/transfer_learning_dogs.yaml --pretrained "
      ],
      "execution_count": null,
      "outputs": []
    },
    {
      "cell_type": "markdown",
      "metadata": {
        "id": "b-ELuzVORtaL"
      },
      "source": [
        ""
      ]
    }
  ]
}