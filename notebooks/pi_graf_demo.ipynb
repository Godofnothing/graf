{
  "nbformat": 4,
  "nbformat_minor": 0,
  "metadata": {
    "colab": {
      "name": "pi_graf_demo.ipynb",
      "provenance": [],
      "toc_visible": true
    },
    "kernelspec": {
      "name": "python3",
      "display_name": "Python 3"
    },
    "accelerator": "GPU"
  },
  "cells": [
    {
      "cell_type": "markdown",
      "metadata": {
        "id": "eznCvSLHhNNa"
      },
      "source": [
        "#Installation Process"
      ]
    },
    {
      "cell_type": "code",
      "metadata": {
        "id": "RisHE5gjUiDu"
      },
      "source": [
        "import sys\r\n",
        "# Download miniconda\r\n",
        "!wget https://repo.anaconda.com/miniconda/Miniconda3-latest-Linux-x86_64.sh\r\n",
        "!bash Miniconda3-latest-Linux-x86_64.sh -bfp /usr/local\r\n",
        "# Install packages from Anaconda\r\n",
        "!conda install -y -c conda-forge --prefix /usr/local pymeep\r\n",
        "# Append path to be able to run packages installed with conda\r\n",
        "sys.path.append('/usr/local/lib/python3.7/site-packages')"
      ],
      "execution_count": null,
      "outputs": []
    },
    {
      "cell_type": "code",
      "metadata": {
        "id": "IR1ZXftOH76A"
      },
      "source": [
        "!git clone https://github.com/Godofnothing/graf"
      ],
      "execution_count": null,
      "outputs": []
    },
    {
      "cell_type": "code",
      "metadata": {
        "colab": {
          "base_uri": "https://localhost:8080/"
        },
        "id": "rNTCAlyzJHXy",
        "outputId": "edf10b1b-3dca-4860-c132-22c4000833b9"
      },
      "source": [
        "%cd graf"
      ],
      "execution_count": 3,
      "outputs": [
        {
          "output_type": "stream",
          "text": [
            "/content/graf\n"
          ],
          "name": "stdout"
        }
      ]
    },
    {
      "cell_type": "code",
      "metadata": {
        "id": "h-Zy66LVdG3Y"
      },
      "source": [
        "%%shell\n",
        "# Creating an anaconda environment called graf\n",
        "eval \"$(conda shell.bash hook)\" # copy conda command to shell\n",
        "conda env create -f environment.yml\n",
        "conda activate graf\n",
        "\n",
        "# Installing torchsearchsorted\n",
        "cd submodules/nerf_pytorch\n",
        "pip install -r requirements.txt\n",
        "cd torchsearchsorted\n",
        "pip install .\n",
        "cd ../../../\n",
        "\n",
        "# loading data\n",
        "\n",
        "cd data\n",
        "./download_carla.sh\n",
        "cd .."
      ],
      "execution_count": null,
      "outputs": []
    },
    {
      "cell_type": "code",
      "metadata": {
        "id": "_DdGVjee1MAs"
      },
      "source": [
        "%%shell\n",
        "# activating graf\n",
        "eval \"$(conda shell.bash hook)\"\n",
        "conda activate graf\n",
        "\n",
        "python train.py configs/default.yaml"
      ],
      "execution_count": null,
      "outputs": []
    },
    {
      "cell_type": "markdown",
      "metadata": {
        "id": "b-ELuzVORtaL"
      },
      "source": [
        ""
      ]
    }
  ]
}